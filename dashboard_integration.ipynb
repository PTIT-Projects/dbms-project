{
 "cells": [
  {
   "cell_type": "markdown",
   "id": "bc842f4a",
   "metadata": {},
   "source": [
    "# Dashboard Integration Notebook\n",
    "\n",
    "This notebook creates HTML files and integrates them into the main dashboard.html file."
   ]
  },
  {
   "cell_type": "markdown",
   "id": "1e538897",
   "metadata": {},
   "source": [
    "# Import Required Libraries\n",
    "\n",
    "Import libraries such as os and BeautifulSoup for file handling and HTML parsing."
   ]
  },
  {
   "cell_type": "code",
   "execution_count": null,
   "id": "da84b769",
   "metadata": {},
   "outputs": [],
   "source": [
    "# Import necessary libraries\n",
    "import os\n",
    "import random\n",
    "from datetime import datetime\n",
    "from bs4 import BeautifulSoup\n",
    "import pandas as pd\n",
    "import matplotlib.pyplot as plt"
   ]
  },
  {
   "cell_type": "markdown",
   "id": "c9998f59",
   "metadata": {},
   "source": [
    "# Create HTML Files\n",
    "\n",
    "Generate sample HTML files programmatically and save them to the working directory."
   ]
  },
  {
   "cell_type": "code",
   "execution_count": null,
   "id": "4319be4a",
   "metadata": {},
   "outputs": [],
   "source": [
    "# Define a function to create a sample HTML file with a chart\n",
    "def create_chart_html(filename, title, chart_type=\"bar\"):\n",
    "    \"\"\"\n",
    "    Create a simple HTML file with a chart visualization\n",
    "    \n",
    "    Parameters:\n",
    "    filename (str): Name of the HTML file to create\n",
    "    title (str): Title of the chart\n",
    "    chart_type (str): Type of chart (bar, line, pie)\n",
    "    \"\"\"\n",
    "    # Create some sample data\n",
    "    categories = [\"Category A\", \"Category B\", \"Category C\", \"Category D\", \"Category E\"]\n",
    "    values = [random.randint(10, 100) for _ in range(5)]\n",
    "    \n",
    "    # Create a DataFrame\n",
    "    df = pd.DataFrame({\n",
    "        'Category': categories,\n",
    "        'Value': values\n",
    "    })\n",
    "    \n",
    "    # Create a figure\n",
    "    plt.figure(figsize=(10, 6))\n",
    "    \n",
    "    if chart_type == \"bar\":\n",
    "        plt.bar(df['Category'], df['Value'])\n",
    "    elif chart_type == \"line\":\n",
    "        plt.plot(df['Category'], df['Value'], marker='o')\n",
    "    elif chart_type == \"pie\":\n",
    "        plt.pie(df['Value'], labels=df['Category'], autopct='%1.1f%%')\n",
    "    \n",
    "    plt.title(title)\n",
    "    \n",
    "    # Save figure to a temporary file\n",
    "    temp_img = f\"temp_{filename.replace('.html', '')}.png\"\n",
    "    plt.savefig(temp_img)\n",
    "    plt.close()\n",
    "    \n",
    "    # Create HTML content\n",
    "    html_content = f\"\"\"<!DOCTYPE html>\n",
    "<html>\n",
    "<head>\n",
    "    <title>{title}</title>\n",
    "    <style>\n",
    "        body {{ font-family: Arial, sans-serif; margin: 20px; }}\n",
    "        .chart-container {{ max-width: 800px; margin: 0 auto; }}\n",
    "        .timestamp {{ color: gray; font-size: 0.8em; text-align: right; }}\n",
    "    </style>\n",
    "</head>\n",
    "<body>\n",
    "    <h1>{title}</h1>\n",
    "    <div class=\"chart-container\">\n",
    "        <img src=\"{temp_img}\" alt=\"{title}\" style=\"width: 100%;\">\n",
    "    </div>\n",
    "    <p class=\"timestamp\">Generated on: {datetime.now().strftime('%Y-%m-%d %H:%M:%S')}</p>\n",
    "</body>\n",
    "</html>\n",
    "\"\"\"\n",
    "    \n",
    "    # Write to file\n",
    "    with open(filename, \"w\") as f:\n",
    "        f.write(html_content)\n",
    "    \n",
    "    print(f\"Created {filename} with a {chart_type} chart\")\n",
    "    \n",
    "    return filename\n",
    "\n",
    "# Create several HTML files with different charts\n",
    "chart_files = [\n",
    "    create_chart_html(\"sales_metrics.html\", \"Monthly Sales Metrics\", \"bar\"),\n",
    "    create_chart_html(\"user_growth.html\", \"User Growth Over Time\", \"line\"),\n",
    "    create_chart_html(\"revenue_distribution.html\", \"Revenue Distribution by Category\", \"pie\")\n",
    "]"
   ]
  },
  {
   "cell_type": "markdown",
   "id": "995cae1c",
   "metadata": {},
   "source": [
    "# Read and Modify `dashboard.html`\n",
    "\n",
    "Use BeautifulSoup to parse the existing `dashboard.html` file and prepare it for modification."
   ]
  }
 ],
 "metadata": {
  "language_info": {
   "name": "python"
  }
 },
 "nbformat": 4,
 "nbformat_minor": 5
}
